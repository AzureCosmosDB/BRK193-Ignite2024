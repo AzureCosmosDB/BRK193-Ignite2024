{
 "cells": [
  {
   "cell_type": "markdown",
   "metadata": {},
   "source": [
    "# Search methods in Azure Cosmos DB for NoSQL\n",
    "- Full Text Search\n",
    "- Full Text Search ordered by BM25 score\n",
    "- Vector Search\n",
    "- Hybrid Search (Vector Search + BM25 merged by RRF)"
   ]
  },
  {
   "cell_type": "code",
   "execution_count": null,
   "metadata": {},
   "outputs": [],
   "source": [
    "import time\n",
    "import json\n",
    "from dotenv import dotenv_values\n",
    "import textwrap\n",
    "from openai import AzureOpenAI\n",
    "from azure.cosmos import CosmosClient, PartitionKey, exceptions"
   ]
  },
  {
   "cell_type": "code",
   "execution_count": null,
   "metadata": {},
   "outputs": [],
   "source": [
    "env_name = \"config.env\" # following example.env template change to your own .env file name\n",
    "config = dotenv_values(env_name)\n",
    "\n",
    "cosmos_connection =  config['cosmos_connection']\n",
    "cosmos_key = config['cosmos_key']\n",
    "\n",
    "openai_endpoint = config['openai_endpoint']\n",
    "openai_key = config['openai_key']"
   ]
  },
  {
   "cell_type": "code",
   "execution_count": null,
   "metadata": {},
   "outputs": [],
   "source": [
    "cosmos_database = \"a-ignite2024demo\"  \n",
    "cosmos_collection = \"search_diskann\"  \n",
    "openai_type = \"azure\"\n",
    "\n",
    "openai_api_version = \"2023-05-15\"\n",
    "openai_embeddings_deployment = \"embeddings\"\n",
    "openai_embeddings_model = \"text-embedding-ada-002\"\n",
    "openai_embeddings_dimensions = \"1536\"\n",
    "openai_completions_deployment = \"completions\"\n",
    "openai_completions_model = \"gpt-35-turbo\""
   ]
  },
  {
   "cell_type": "code",
   "execution_count": null,
   "metadata": {},
   "outputs": [],
   "source": [
    "cosmos_client = CosmosClient(url=cosmos_connection, credential=cosmos_key)\n",
    "db = cosmos_client.get_database_client(cosmos_database)\n",
    "container = db.get_container_client(cosmos_collection)\n",
    "\n",
    "openai_client = AzureOpenAI(azure_endpoint=openai_endpoint, api_key=openai_key, api_version=openai_api_version)"
   ]
  },
  {
   "cell_type": "code",
   "execution_count": null,
   "metadata": {},
   "outputs": [],
   "source": [
    "def generate_embeddings(text):\n",
    "    response = openai_client.embeddings.create(\n",
    "        input=text,\n",
    "        model=openai_embeddings_deployment)     \n",
    "    embeddings = response.model_dump()\n",
    "    return embeddings['data'][0]['embedding']"
   ]
  },
  {
   "cell_type": "code",
   "execution_count": null,
   "metadata": {},
   "outputs": [],
   "source": [
    "search_terms = \"quantum particles and electron interactions\"\n",
    "emb = generate_embeddings(search_terms)\n",
    "full_text = search_terms.split()"
   ]
  },
  {
   "cell_type": "markdown",
   "metadata": {},
   "source": [
    "# Full Text Search (FullTextContainsAny)\n",
    "Some documents contains at least one keyword."
   ]
  },
  {
   "cell_type": "code",
   "execution_count": null,
   "metadata": {},
   "outputs": [],
   "source": [
    "results = container.query_items(\n",
    "        query= f'''\n",
    "        SELECT TOP 5 c.id, c.title, c.abstract\n",
    "        FROM c\n",
    "        WHERE FullTextContainsAny(c.abstract,'{\"', '\".join(full_text)}')\n",
    "        ''',\n",
    "          enable_cross_partition_query=True, populate_query_metrics=True)\n",
    "\n",
    "for r in list(results):\n",
    "    print(json.dumps(r,indent=4),\"\\n\")"
   ]
  },
  {
   "cell_type": "markdown",
   "metadata": {},
   "source": [
    "# Full Text Search (FullTextContainsAll)\n",
    "No documents contain ALL keywords"
   ]
  },
  {
   "cell_type": "code",
   "execution_count": null,
   "metadata": {},
   "outputs": [],
   "source": [
    "results = container.query_items(\n",
    "        query= f'''\n",
    "        SELECT TOP 5 c.id, c.title, c.abstract\n",
    "        FROM c\n",
    "        WHERE FullTextContainsAll(c.abstract,'{\"', '\".join(full_text)}')\n",
    "        ''',\n",
    "          enable_cross_partition_query=True, populate_query_metrics=True)\n",
    "\n",
    "for r in list(results):\n",
    "    print(json.dumps(r,indent=4),\"\\n\")"
   ]
  },
  {
   "cell_type": "markdown",
   "metadata": {},
   "source": [
    "# Full Text Ranking with BM25\n",
    "Documents ranked by:\n",
    "- Frequency of keywords/terms in property path\n",
    "- Normalized by overall property text length\n",
    "- Normalized by frequency of the keywords/terms in the entire collection"
   ]
  },
  {
   "cell_type": "code",
   "execution_count": null,
   "metadata": {},
   "outputs": [],
   "source": [
    "results = container.query_items(\n",
    "        query= f'''\n",
    "        SELECT TOP 5 c.id, c.title, c.abstract\n",
    "        FROM c\n",
    "        ORDER BY RANK FullTextScore(c.abstract, {str(full_text)})\n",
    "        ''',\n",
    "        enable_cross_partition_query=True, populate_query_metrics=True)\n",
    "\n",
    "for r in list(results):\n",
    "    print(json.dumps(r,indent=4),\"\\n\")"
   ]
  },
  {
   "cell_type": "markdown",
   "metadata": {},
   "source": [
    "# Vector Similarity Search"
   ]
  },
  {
   "cell_type": "code",
   "execution_count": null,
   "metadata": {},
   "outputs": [],
   "source": [
    "results = container.query_items(\n",
    "        query= f'''\n",
    "        SELECT TOP 5 c.id, c.title, c.abstract, VectorDistance(c.Embedding, {emb}) as SimilarityScore\n",
    "        FROM c\n",
    "        ORDER BY VectorDistance(c.Embedding, {emb})\n",
    "        ''',\n",
    "        enable_cross_partition_query=True, populate_query_metrics=True)\n",
    "\n",
    "for r in list(results):\n",
    "    print(json.dumps(r,indent=4),\"\\n\")"
   ]
  },
  {
   "cell_type": "markdown",
   "metadata": {},
   "source": [
    "# Hybrid Search"
   ]
  },
  {
   "cell_type": "code",
   "execution_count": null,
   "metadata": {},
   "outputs": [],
   "source": [
    "results = container.query_items(\n",
    "        query= f'''\n",
    "        SELECT TOP 5 c.id, c.title, c.abstract, VectorDistance(c.Embedding, {emb}) as SimilarityScore\n",
    "        FROM c\n",
    "        ORDER BY RANK RRF (FullTextScore(c.abstract, {str(full_text)}), VectorDistance(c.Embedding, {emb}))\n",
    "        ''',\n",
    "        enable_cross_partition_query=True, populate_query_metrics=True)\n",
    "\n",
    "for r in list(results):\n",
    "    print(json.dumps(r,indent=4),\"\\n\")"
   ]
  }
 ],
 "metadata": {
  "kernelspec": {
   "display_name": "py312",
   "language": "python",
   "name": "python3"
  },
  "language_info": {
   "codemirror_mode": {
    "name": "ipython",
    "version": 3
   },
   "file_extension": ".py",
   "mimetype": "text/x-python",
   "name": "python",
   "nbconvert_exporter": "python",
   "pygments_lexer": "ipython3",
   "version": "3.12.4"
  }
 },
 "nbformat": 4,
 "nbformat_minor": 2
}
